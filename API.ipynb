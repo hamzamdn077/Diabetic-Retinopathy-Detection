{
 "cells": [
  {
   "cell_type": "markdown",
   "id": "2dd3dc92-f2db-40a2-9499-ab709703243d",
   "metadata": {},
   "source": [
    "## For Binary Classification Interface"
   ]
  },
  {
   "cell_type": "code",
   "execution_count": null,
   "id": "1b67d673-b8a8-416f-89ca-db345934a5c4",
   "metadata": {},
   "outputs": [
    {
     "name": "stderr",
     "output_type": "stream",
     "text": [
      "WARNING:absl:Compiled the loaded model, but the compiled metrics have yet to be built. `model.compile_metrics` will be empty until you train or evaluate the model.\n"
     ]
    },
    {
     "name": "stdout",
     "output_type": "stream",
     "text": [
      " * Serving Flask app '__main__'\n",
      " * Debug mode: on\n"
     ]
    },
    {
     "name": "stderr",
     "output_type": "stream",
     "text": [
      "INFO:werkzeug:\u001b[31m\u001b[1mWARNING: This is a development server. Do not use it in a production deployment. Use a production WSGI server instead.\u001b[0m\n",
      " * Running on http://localhost:5000\n",
      "INFO:werkzeug:\u001b[33mPress CTRL+C to quit\u001b[0m\n"
     ]
    },
    {
     "name": "stdout",
     "output_type": "stream",
     "text": [
      "\u001b[1m1/1\u001b[0m \u001b[32m━━━━━━━━━━━━━━━━━━━━\u001b[0m\u001b[37m\u001b[0m \u001b[1m0s\u001b[0m 438ms/step\n"
     ]
    },
    {
     "name": "stderr",
     "output_type": "stream",
     "text": [
      "INFO:werkzeug:127.0.0.1 - - [24/Apr/2024 18:02:48] \"POST /predict HTTP/1.1\" 200 -\n"
     ]
    },
    {
     "name": "stdout",
     "output_type": "stream",
     "text": [
      "\u001b[1m1/1\u001b[0m \u001b[32m━━━━━━━━━━━━━━━━━━━━\u001b[0m\u001b[37m\u001b[0m \u001b[1m0s\u001b[0m 39ms/step\n"
     ]
    },
    {
     "name": "stderr",
     "output_type": "stream",
     "text": [
      "INFO:werkzeug:127.0.0.1 - - [24/Apr/2024 18:02:54] \"POST /predict HTTP/1.1\" 200 -\n"
     ]
    },
    {
     "name": "stdout",
     "output_type": "stream",
     "text": [
      "\u001b[1m1/1\u001b[0m \u001b[32m━━━━━━━━━━━━━━━━━━━━\u001b[0m\u001b[37m\u001b[0m \u001b[1m0s\u001b[0m 51ms/step\n"
     ]
    },
    {
     "name": "stderr",
     "output_type": "stream",
     "text": [
      "INFO:werkzeug:127.0.0.1 - - [24/Apr/2024 18:03:02] \"POST /predict HTTP/1.1\" 200 -\n"
     ]
    }
   ],
   "source": [
    "from flask import Flask, request, jsonify\n",
    "from flask_cors import CORS\n",
    "import joblib\n",
    "import signal\n",
    "from keras.models import load_model\n",
    "import cv2\n",
    "import numpy as np\n",
    "from PIL import Image\n",
    "import base64\n",
    "model = load_model('binary_model.h5')\n",
    "import matplotlib.pyplot as plt\n",
    "def preprocessing(image):\n",
    "    image=np.array(image)\n",
    "    img_ben = cv2.addWeighted(image, 4, cv2.GaussianBlur(image, (0, 0), 10), -3.5, 80)    \n",
    "    return img_ben\n",
    "def predictClass(image):\n",
    "  image=np.array(image)\n",
    "  y_pred_prob = model.predict(image.reshape(1,224,224,3))\n",
    "  y_pred = (y_pred_prob >= 0.5).astype(int)\n",
    "  y_pred=(y_pred[0])[0]\n",
    "  return y_pred\n",
    "\n",
    "def encode_image(image):\n",
    "  ret, buffer = cv2.imencode('.png', image)\n",
    "  return base64.b64encode(buffer.tobytes()).decode('utf-8')\n",
    "\n",
    "app = Flask(__name__)\n",
    "CORS(app, resources={r\"/*\": {\"origins\": \"*\"}})\n",
    "\n",
    "@app.route('/predict', methods=['POST'])\n",
    "def predict():\n",
    "  try:\n",
    "    uploaded_file = request.files['file']\n",
    "    if uploaded_file:\n",
    "      image = Image.open(uploaded_file)\n",
    "      processed_image = preprocessing(image)\n",
    "      ind = predictClass(image)\n",
    "      classes = ['No_DR', 'DR']\n",
    "      predicted_class_label = classes[ind]\n",
    "      processed_image_data = encode_image(processed_image)\n",
    "      return jsonify({'prediction': predicted_class_label, 'processed_image': processed_image_data})\n",
    "    else:\n",
    "      return jsonify({'error': 'No file uploaded'}), 400\n",
    "  except Exception as e:\n",
    "    return jsonify({'error': e}), 500\n",
    "\n",
    "signal.signal(signal.SIGINT, signal.SIG_DFL)\n",
    "\n",
    "if __name__ == '__main__':\n",
    "  app.run(host='localhost', port=5000, debug=True, use_reloader=False)"
   ]
  },
  {
   "cell_type": "markdown",
   "id": "59c2269c-69d0-4e9c-a23c-02a6a3529f19",
   "metadata": {},
   "source": [
    "## For MultiClass Classification Interface"
   ]
  },
  {
   "cell_type": "code",
   "execution_count": null,
   "id": "1a82e7f4-5f15-4937-9665-ec185a37b287",
   "metadata": {},
   "outputs": [],
   "source": [
    "from flask import Flask, request, jsonify\n",
    "from flask_cors import CORS\n",
    "import joblib\n",
    "import signal\n",
    "from keras.models import load_model\n",
    "import cv2\n",
    "import numpy as np\n",
    "from PIL import Image\n",
    "import base64\n",
    "model = load_model('my_model.h5')\n",
    "def preprocessing(image):\n",
    "    # Convert PIL image to numpy array\n",
    "    image_array = np.array(image)    \n",
    "    # Convert RGB to LAB color space\n",
    "    lab = cv2.cvtColor(image_array, cv2.COLOR_RGB2LAB)\n",
    "    # Split LAB channels\n",
    "    l, a, b = cv2.split(lab)\n",
    "    # Apply CLAHE to enhance L channel\n",
    "    clahe = cv2.createCLAHE(clipLimit=3.0, tileGridSize=(8, 8))\n",
    "    enhanced_l = clahe.apply(l)\n",
    "    # Merge LAB channels back to RGB\n",
    "    enhanced_lab = cv2.merge((enhanced_l, a, b))\n",
    "    processed_image = cv2.cvtColor(enhanced_lab, cv2.COLOR_LAB2RGB)\n",
    "    return processed_image\n",
    "def predictClass(image):\n",
    "  processed_image = preprocessing(image)\n",
    "  processed_image = np.expand_dims(processed_image, axis=0)\n",
    "  prediction = model.predict(processed_image)\n",
    "  return prediction\n",
    "\n",
    "def encode_image(image):\n",
    "  ret, buffer = cv2.imencode('.jpg', image)\n",
    "  return base64.b64encode(buffer.tobytes()).decode('utf-8')\n",
    "\n",
    "app = Flask(__name__)\n",
    "CORS(app, resources={r\"/*\": {\"origins\": \"*\"}})\n",
    "\n",
    "@app.route('/predict', methods=['POST'])\n",
    "def predict():\n",
    "  try:\n",
    "    uploaded_file = request.files['file']\n",
    "    if uploaded_file:\n",
    "      image = Image.open(uploaded_file)\n",
    "      processed_image = preprocessing(image)\n",
    "      prediction = predictClass(processed_image)\n",
    "      predicted_class_index = np.argmax(prediction)\n",
    "      classes = ['Mild', 'Moderate', 'No_DR', 'Proliferate_DR', 'Severe']\n",
    "      predicted_class_label = classes[predicted_class_index]\n",
    "      processed_image_data = encode_image(processed_image)\n",
    "      return jsonify({'prediction': predicted_class_label, 'processed_image': processed_image_data})\n",
    "    else:\n",
    "      return jsonify({'error': 'No file uploaded'}), 400\n",
    "  except Exception as e:\n",
    "    return jsonify({'error': e}), 500\n",
    "\n",
    "signal.signal(signal.SIGINT, signal.SIG_DFL)\n",
    "\n",
    "if __name__ == '__main__':\n",
    "  app.run(host='localhost', port=5000, debug=True, use_reloader=False)"
   ]
  },
  {
   "cell_type": "code",
   "execution_count": null,
   "id": "15a306cd-e7c6-4f6f-a578-b8e20074bebe",
   "metadata": {},
   "outputs": [],
   "source": []
  }
 ],
 "metadata": {
  "kernelspec": {
   "display_name": "Python 3 (ipykernel)",
   "language": "python",
   "name": "python3"
  },
  "language_info": {
   "codemirror_mode": {
    "name": "ipython",
    "version": 3
   },
   "file_extension": ".py",
   "mimetype": "text/x-python",
   "name": "python",
   "nbconvert_exporter": "python",
   "pygments_lexer": "ipython3",
   "version": "3.11.7"
  }
 },
 "nbformat": 4,
 "nbformat_minor": 5
}
